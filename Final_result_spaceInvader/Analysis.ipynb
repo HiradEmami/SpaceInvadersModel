{
 "cells": [
  {
   "cell_type": "markdown",
   "metadata": {},
   "source": [
    "First, read the data\n"
   ]
  },
  {
   "cell_type": "code",
   "execution_count": 34,
   "metadata": {},
   "outputs": [
    {
     "data": {
      "text/html": [
       "<table>\n",
       "<thead><tr><th scope=col>happiness</th><th scope=col>mode</th><th scope=col>stage</th><th scope=col>rt</th><th scope=col>name</th></tr></thead>\n",
       "<tbody>\n",
       "\t<tr><td>happy  </td><td> Easy  </td><td> Random</td><td>1.804  </td><td> arnout</td></tr>\n",
       "\t<tr><td>sad    </td><td> Easy  </td><td> Random</td><td>2.186  </td><td> arnout</td></tr>\n",
       "\t<tr><td>sad    </td><td> Easy  </td><td> Random</td><td>1.109  </td><td> arnout</td></tr>\n",
       "\t<tr><td>sad    </td><td> Easy  </td><td> Random</td><td>2.199  </td><td> arnout</td></tr>\n",
       "\t<tr><td>happy  </td><td> Medium</td><td> IMS   </td><td>1.599  </td><td> arnout</td></tr>\n",
       "\t<tr><td>happy  </td><td> Easy  </td><td> IMS   </td><td>1.352  </td><td> arnout</td></tr>\n",
       "</tbody>\n",
       "</table>\n"
      ],
      "text/latex": [
       "\\begin{tabular}{r|lllll}\n",
       " happiness & mode & stage & rt & name\\\\\n",
       "\\hline\n",
       "\t happy   &  Easy   &  Random & 1.804   &  arnout\\\\\n",
       "\t sad     &  Easy   &  Random & 2.186   &  arnout\\\\\n",
       "\t sad     &  Easy   &  Random & 1.109   &  arnout\\\\\n",
       "\t sad     &  Easy   &  Random & 2.199   &  arnout\\\\\n",
       "\t happy   &  Medium &  IMS    & 1.599   &  arnout\\\\\n",
       "\t happy   &  Easy   &  IMS    & 1.352   &  arnout\\\\\n",
       "\\end{tabular}\n"
      ],
      "text/markdown": [
       "\n",
       "happiness | mode | stage | rt | name | \n",
       "|---|---|---|---|---|---|\n",
       "| happy   |  Easy   |  Random | 1.804   |  arnout | \n",
       "| sad     |  Easy   |  Random | 2.186   |  arnout | \n",
       "| sad     |  Easy   |  Random | 1.109   |  arnout | \n",
       "| sad     |  Easy   |  Random | 2.199   |  arnout | \n",
       "| happy   |  Medium |  IMS    | 1.599   |  arnout | \n",
       "| happy   |  Easy   |  IMS    | 1.352   |  arnout | \n",
       "\n",
       "\n"
      ],
      "text/plain": [
       "  happiness mode    stage   rt    name   \n",
       "1 happy      Easy    Random 1.804  arnout\n",
       "2 sad        Easy    Random 2.186  arnout\n",
       "3 sad        Easy    Random 1.109  arnout\n",
       "4 sad        Easy    Random 2.199  arnout\n",
       "5 happy      Medium  IMS    1.599  arnout\n",
       "6 happy      Easy    IMS    1.352  arnout"
      ]
     },
     "metadata": {},
     "output_type": "display_data"
    }
   ],
   "source": [
    "data <- read.csv('totaldata.csv')\n",
    "head(data)"
   ]
  },
  {
   "cell_type": "code",
   "execution_count": 35,
   "metadata": {},
   "outputs": [
    {
     "data": {
      "text/plain": [
       "                Df Sum Sq Mean Sq F value Pr(>F)\n",
       "stage            1  0.635  0.6348   1.960  0.168\n",
       "mode             2  1.541  0.7707   2.380  0.103\n",
       "name             4  1.242  0.3104   0.958  0.439\n",
       "stage:mode       2  0.272  0.1359   0.420  0.660\n",
       "stage:name       4  2.010  0.5026   1.552  0.202\n",
       "mode:name        8  1.872  0.2340   0.723  0.671\n",
       "stage:mode:name  5  0.878  0.1756   0.542  0.743\n",
       "Residuals       48 15.545  0.3239               "
      ]
     },
     "metadata": {},
     "output_type": "display_data"
    }
   ],
   "source": [
    "res.aov2 <- aov(rt ~ stage * mode * name, data = data)\n",
    "summary(res.aov2)"
   ]
  },
  {
   "cell_type": "markdown",
   "metadata": {},
   "source": [
    "It seems there are no sign. correlations in the rt data.. \n",
    "\n",
    "\n",
    "This doesnt really work yet..\n",
    "\n",
    "res.aov3 <- aov(happiness ~ stage + mode, data = data)\n",
    "summary(res.aov3)"
   ]
  },
  {
   "cell_type": "code",
   "execution_count": 36,
   "metadata": {},
   "outputs": [
    {
     "data": {
      "text/plain": [
       "                Df Sum Sq Mean Sq F value Pr(>F)\n",
       "stage            1  0.635  0.6348   1.960  0.168\n",
       "mode             2  1.541  0.7707   2.380  0.103\n",
       "name             4  1.242  0.3104   0.958  0.439\n",
       "stage:mode       2  0.272  0.1359   0.420  0.660\n",
       "stage:name       4  2.010  0.5026   1.552  0.202\n",
       "mode:name        8  1.872  0.2340   0.723  0.671\n",
       "stage:mode:name  5  0.878  0.1756   0.542  0.743\n",
       "Residuals       48 15.545  0.3239               "
      ]
     },
     "metadata": {},
     "output_type": "display_data"
    }
   ],
   "source": [
    "res.lin2 <- lm(rt ~ stage * mode * name, data = data)\n",
    "summary(res.aov2)"
   ]
  },
  {
   "cell_type": "markdown",
   "metadata": {},
   "source": [
    "Now, lets look at the dilation data"
   ]
  },
  {
   "cell_type": "code",
   "execution_count": 41,
   "metadata": {},
   "outputs": [
    {
     "data": {
      "text/html": [
       "<table>\n",
       "<thead><tr><th scope=col>dil</th><th scope=col>label</th><th scope=col>c1</th><th scope=col>c2</th><th scope=col>mode</th><th scope=col>stage</th><th scope=col>name</th></tr></thead>\n",
       "<tbody>\n",
       "\t<tr><td>-0.8544831</td><td>0         </td><td>4305.404  </td><td>4582.157  </td><td> Hard     </td><td> Control  </td><td> arnout   </td></tr>\n",
       "\t<tr><td>-0.9557605</td><td>0         </td><td>4305.445  </td><td>4582.157  </td><td> Hard     </td><td> Control  </td><td> arnout   </td></tr>\n",
       "\t<tr><td>-1.2772065</td><td>0         </td><td>4305.340  </td><td>4582.157  </td><td> Hard     </td><td> Control  </td><td> arnout   </td></tr>\n",
       "\t<tr><td>-1.3784840</td><td>0         </td><td>4305.189  </td><td>4582.157  </td><td> Hard     </td><td> Control  </td><td> arnout   </td></tr>\n",
       "\t<tr><td>-1.3872907</td><td>0         </td><td>4305.035  </td><td>4582.157  </td><td> Hard     </td><td> Control  </td><td> arnout   </td></tr>\n",
       "\t<tr><td>-3.8487739</td><td>0         </td><td>4303.763  </td><td>4582.157  </td><td> Hard     </td><td> Control  </td><td> arnout   </td></tr>\n",
       "</tbody>\n",
       "</table>\n"
      ],
      "text/latex": [
       "\\begin{tabular}{r|lllllll}\n",
       " dil & label & c1 & c2 & mode & stage & name\\\\\n",
       "\\hline\n",
       "\t -0.8544831 & 0          & 4305.404   & 4582.157   &  Hard      &  Control   &  arnout   \\\\\n",
       "\t -0.9557605 & 0          & 4305.445   & 4582.157   &  Hard      &  Control   &  arnout   \\\\\n",
       "\t -1.2772065 & 0          & 4305.340   & 4582.157   &  Hard      &  Control   &  arnout   \\\\\n",
       "\t -1.3784840 & 0          & 4305.189   & 4582.157   &  Hard      &  Control   &  arnout   \\\\\n",
       "\t -1.3872907 & 0          & 4305.035   & 4582.157   &  Hard      &  Control   &  arnout   \\\\\n",
       "\t -3.8487739 & 0          & 4303.763   & 4582.157   &  Hard      &  Control   &  arnout   \\\\\n",
       "\\end{tabular}\n"
      ],
      "text/markdown": [
       "\n",
       "dil | label | c1 | c2 | mode | stage | name | \n",
       "|---|---|---|---|---|---|\n",
       "| -0.8544831 | 0          | 4305.404   | 4582.157   |  Hard      |  Control   |  arnout    | \n",
       "| -0.9557605 | 0          | 4305.445   | 4582.157   |  Hard      |  Control   |  arnout    | \n",
       "| -1.2772065 | 0          | 4305.340   | 4582.157   |  Hard      |  Control   |  arnout    | \n",
       "| -1.3784840 | 0          | 4305.189   | 4582.157   |  Hard      |  Control   |  arnout    | \n",
       "| -1.3872907 | 0          | 4305.035   | 4582.157   |  Hard      |  Control   |  arnout    | \n",
       "| -3.8487739 | 0          | 4303.763   | 4582.157   |  Hard      |  Control   |  arnout    | \n",
       "\n",
       "\n"
      ],
      "text/plain": [
       "  dil        label c1       c2       mode  stage    name   \n",
       "1 -0.8544831 0     4305.404 4582.157  Hard  Control  arnout\n",
       "2 -0.9557605 0     4305.445 4582.157  Hard  Control  arnout\n",
       "3 -1.2772065 0     4305.340 4582.157  Hard  Control  arnout\n",
       "4 -1.3784840 0     4305.189 4582.157  Hard  Control  arnout\n",
       "5 -1.3872907 0     4305.035 4582.157  Hard  Control  arnout\n",
       "6 -3.8487739 0     4303.763 4582.157  Hard  Control  arnout"
      ]
     },
     "metadata": {},
     "output_type": "display_data"
    }
   ],
   "source": [
    "dilData = read.csv('totallogdata.csv')\n",
    "head(dilData)"
   ]
  },
  {
   "cell_type": "code",
   "execution_count": 42,
   "metadata": {},
   "outputs": [
    {
     "data": {
      "text/plain": [
       "                   Df Sum Sq Mean Sq F value Pr(>F)    \n",
       "stage               2   1489     745 1066.29 <2e-16 ***\n",
       "mode                2   7188    3594 5147.05 <2e-16 ***\n",
       "name                4    145      36   51.87 <2e-16 ***\n",
       "stage:mode          3    958     319  457.13 <2e-16 ***\n",
       "stage:name          8    837     105  149.89 <2e-16 ***\n",
       "mode:name           8   2106     263  376.92 <2e-16 ***\n",
       "stage:mode:name     6   3641     607  869.08 <2e-16 ***\n",
       "Residuals       54123  37793       1                   \n",
       "---\n",
       "Signif. codes:  0 ‘***’ 0.001 ‘**’ 0.01 ‘*’ 0.05 ‘.’ 0.1 ‘ ’ 1"
      ]
     },
     "metadata": {},
     "output_type": "display_data"
    }
   ],
   "source": [
    "res.aov2 <- aov(dil ~ stage * mode * name, data = dilData)\n",
    "summary(res.aov2)"
   ]
  },
  {
   "cell_type": "code",
   "execution_count": null,
   "metadata": {},
   "outputs": [],
   "source": []
  }
 ],
 "metadata": {
  "kernelspec": {
   "display_name": "R",
   "language": "R",
   "name": "ir"
  },
  "language_info": {
   "codemirror_mode": "r",
   "file_extension": ".r",
   "mimetype": "text/x-r-source",
   "name": "R",
   "pygments_lexer": "r",
   "version": "3.2.3"
  }
 },
 "nbformat": 4,
 "nbformat_minor": 2
}
